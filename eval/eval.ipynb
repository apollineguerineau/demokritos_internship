{
 "cells": [
  {
   "cell_type": "code",
   "execution_count": 94,
   "metadata": {},
   "outputs": [],
   "source": [
    "import pandas as pd\n",
    "import os\n",
    "import matplotlib.pyplot as plt"
   ]
  },
  {
   "cell_type": "code",
   "execution_count": 57,
   "metadata": {},
   "outputs": [],
   "source": [
    "def get_new_papers(labelled_data, fetched_pages) : \n",
    "    left_join = pd.merge(\n",
    "        fetched_pages,\n",
    "        labelled_data,\n",
    "        on=\"url\",\n",
    "        how=\"left\",\n",
    "        suffixes=(\"\", \"_labelled\"), \n",
    "        indicator=True,  # Pas de suffixe pour fetched_pages, \"_labelled\" pour labelled_data\n",
    "    )\n",
    "\n",
    "    # Récupérer uniquement les colonnes nécessaires (en évitant *_labelled si elles ne sont pas utiles)\n",
    "    columns_to_keep = [col for col in left_join.columns if not col.endswith(\"_labelled\")]\n",
    "    left_join = left_join[columns_to_keep]\n",
    "\n",
    "    # Récupérer uniquement les pages qui sont uniquement dans fetched_pages\n",
    "    only_in_fetched = left_join[left_join[\"_merge\"] == \"left_only\"].drop(columns=[\"_merge\"])\n",
    "    return(only_in_fetched)"
   ]
  },
  {
   "cell_type": "code",
   "execution_count": 87,
   "metadata": {},
   "outputs": [],
   "source": [
    "def comparision_with_original_dataset(original_dataset, fetched_pages) : \n",
    "    labelled_data_relevants = original_dataset[original_dataset['relevance']==1]\n",
    "\n",
    "    merged_data = pd.merge(original_dataset, fetched_pages, on=\"url\", how=\"inner\")\n",
    "    merged_data['relevance'] = merged_data['relevance'].fillna(0)\n",
    "    relevants = merged_data[merged_data['relevance']==1]\n",
    "\n",
    "    only_in_fetched = get_new_papers(original_dataset, fetched_pages)\n",
    "\n",
    "    recall = len(relevants) / len(labelled_data_relevants) if len(labelled_data_relevants) > 0 else 0\n",
    "    precision = len(relevants) / len(merged_data) if len(merged_data) > 0 else 0\n",
    "\n",
    "    print(f'nb papers fetched : {len(fetched_pages)}')\n",
    "    print(f'nb papers already labelled : {len(merged_data)} ; nb papers not labelled : {len(only_in_fetched)}')\n",
    "    print(f'nb relevant papers in labelled dataset : {len(labelled_data_relevants)}')\n",
    "    print(f'nb relevant papers of labelled dataset fetched : {len(relevants)}')\n",
    "    print(f'Recall for labelled dataset : {recall:.4f}')\n",
    "    print(f'Precision for labelled dataset : {precision:.4f}')"
   ]
  },
  {
   "cell_type": "code",
   "execution_count": 92,
   "metadata": {},
   "outputs": [],
   "source": [
    "def recall_precision(fetched_pages, labelled_dataset) : \n",
    "    labelled_data_relevants = labelled_dataset[labelled_dataset['relevance']==1]\n",
    "\n",
    "    merged_data = pd.merge(labelled_dataset, fetched_pages, on=\"url\", how=\"inner\")\n",
    "    merged_data['relevance'] = merged_data['relevance'].fillna(0)\n",
    "    relevants = merged_data[merged_data['relevance']==1]\n",
    "\n",
    "    recall = len(relevants) / len(labelled_data_relevants) if len(labelled_data_relevants) > 0 else 0\n",
    "    precision = len(relevants) / len(merged_data) if len(merged_data) > 0 else 0\n",
    "\n",
    "    return(recall, precision)"
   ]
  },
  {
   "cell_type": "code",
   "execution_count": 119,
   "metadata": {},
   "outputs": [],
   "source": [
    "def query_count(session_infos_path, fetched_pages_path):\n",
    "    session_infos = pd.read_csv(session_infos_path)\n",
    "    fetched_pages = pd.read_csv(fetched_pages_path)\n",
    "    print(fetched_pages.columns)\n",
    "\n",
    "    queries_count = []\n",
    "\n",
    "    queries = list(session_infos['all_queries'])[0].split(';')\n",
    "    for query in queries:\n",
    "        pages_for_query = fetched_pages[fetched_pages['get_with_query'] == query]\n",
    "        num_pages_for_query = len(pages_for_query)\n",
    "        queries_count.append(num_pages_for_query)\n",
    "\n",
    "    index = [i for i in range(len(queries))]\n",
    "    plt.figure(figsize=(10, 6))\n",
    "    plt.bar(index, queries_count, edgecolor='black')\n",
    "    plt.xlabel('Query Number')\n",
    "    plt.ylabel('Number of Pages Found')\n",
    "    plt.title('Number of Pages Found per Query')\n",
    "    plt.show()"
   ]
  },
  {
   "cell_type": "code",
   "execution_count": 88,
   "metadata": {},
   "outputs": [
    {
     "name": "stdout",
     "output_type": "stream",
     "text": [
      "7\n"
     ]
    }
   ],
   "source": [
    "original_dataset = pd.read_csv(\"/Users/apollineguerineau/Documents/ENSAI/3A/Greece/internship/eval/RAG_code_generation/dataset_rag.csv\", sep=';')\n",
    "labelled_new_papers_path = \"/Users/apollineguerineau/Documents/ENSAI/3A/Greece/internship/eval/RAG_code_generation/crawlers/all_new_pages_to_label.csv\"\n",
    "path_to_crawlers = \"/Users/apollineguerineau/Documents/ENSAI/3A/Greece/internship/eval/RAG_code_generation/crawlers/\"\n",
    "crawlers = [f for f in os.listdir(path_to_crawlers) if os.path.isdir(os.path.join(path_to_crawlers, f))]\n",
    "print(len(crawlers))"
   ]
  },
  {
   "cell_type": "code",
   "execution_count": 89,
   "metadata": {},
   "outputs": [
    {
     "name": "stdout",
     "output_type": "stream",
     "text": [
      "none_sim_cos_thr_0.802_pages_None\n",
      "nb papers fetched : 22\n",
      "nb papers already labelled : 22 ; nb papers not labelled : 0\n",
      "nb relevant papers in labelled dataset : 16\n",
      "nb relevant papers of labelled dataset fetched : 16\n",
      "Recall for labelled dataset : 1.0000\n",
      "Precision for labelled dataset : 0.7273\n",
      "--------------------------------------------------------\n",
      "none_none_thr_none_pages_None\n",
      "nb papers fetched : 23\n",
      "nb papers already labelled : 23 ; nb papers not labelled : 0\n",
      "nb relevant papers in labelled dataset : 16\n",
      "nb relevant papers of labelled dataset fetched : 16\n",
      "Recall for labelled dataset : 1.0000\n",
      "Precision for labelled dataset : 0.6957\n",
      "--------------------------------------------------------\n",
      "best_paper_based_hyde_sim_cos_thr_0.882_pages_50\n",
      "nb papers fetched : 587\n",
      "nb papers already labelled : 22 ; nb papers not labelled : 565\n",
      "nb relevant papers in labelled dataset : 16\n",
      "nb relevant papers of labelled dataset fetched : 16\n",
      "Recall for labelled dataset : 1.0000\n",
      "Precision for labelled dataset : 0.7273\n",
      "--------------------------------------------------------\n",
      "seed_query_based_hyde_sim_cos_thr_0.882_pages_50\n",
      "nb papers fetched : 462\n",
      "nb papers already labelled : 17 ; nb papers not labelled : 445\n",
      "nb relevant papers in labelled dataset : 16\n",
      "nb relevant papers of labelled dataset fetched : 12\n",
      "Recall for labelled dataset : 0.7500\n",
      "Precision for labelled dataset : 0.7059\n",
      "--------------------------------------------------------\n",
      "none_hyde_sim_cos_thr_0.882_pages_None\n",
      "nb papers fetched : 22\n",
      "nb papers already labelled : 22 ; nb papers not labelled : 0\n",
      "nb relevant papers in labelled dataset : 16\n",
      "nb relevant papers of labelled dataset fetched : 16\n",
      "Recall for labelled dataset : 1.0000\n",
      "Precision for labelled dataset : 0.7273\n",
      "--------------------------------------------------------\n",
      "best_paper_based_sim_cos_thr_0.802_pages_50\n",
      "nb papers fetched : 822\n",
      "nb papers already labelled : 22 ; nb papers not labelled : 800\n",
      "nb relevant papers in labelled dataset : 16\n",
      "nb relevant papers of labelled dataset fetched : 16\n",
      "Recall for labelled dataset : 1.0000\n",
      "Precision for labelled dataset : 0.7273\n",
      "--------------------------------------------------------\n",
      "seed_query_based_sim_cos_thr_0.802_pages_50\n",
      "nb papers fetched : 858\n",
      "nb papers already labelled : 22 ; nb papers not labelled : 836\n",
      "nb relevant papers in labelled dataset : 16\n",
      "nb relevant papers of labelled dataset fetched : 16\n",
      "Recall for labelled dataset : 1.0000\n",
      "Precision for labelled dataset : 0.7273\n",
      "--------------------------------------------------------\n"
     ]
    }
   ],
   "source": [
    "for crawler in crawlers : \n",
    "    print(crawler)\n",
    "    path_fetched_pages = os.path.join(path_to_crawlers, crawler+\"/fetched_pages.csv\")\n",
    "    fetched_pages = pd.read_csv(path_fetched_pages)\n",
    "    comparision_with_original_dataset(original_dataset=original_dataset, fetched_pages=fetched_pages)\n",
    "    print('--------------------------------------------------------')\n",
    "\n"
   ]
  },
  {
   "cell_type": "code",
   "execution_count": 86,
   "metadata": {},
   "outputs": [
    {
     "name": "stdout",
     "output_type": "stream",
     "text": [
      "Total new unique papers to label: 1292\n"
     ]
    },
    {
     "name": "stderr",
     "output_type": "stream",
     "text": [
      "/var/folders/_q/jwd73s_9411cb6x2cl1l9q700000gn/T/ipykernel_20865/294494363.py:9: FutureWarning: The behavior of DataFrame concatenation with empty or all-NA entries is deprecated. In a future version, this will no longer exclude empty or all-NA columns when determining the result dtypes. To retain the old behavior, exclude the relevant entries before the concat operation.\n",
      "  combined_new_papers = pd.concat(all_new_papers, ignore_index=True)\n"
     ]
    }
   ],
   "source": [
    "all_new_papers = []\n",
    "\n",
    "for crawler in crawlers:\n",
    "    path_fetched_pages = os.path.join(path_to_crawlers, crawler)\n",
    "    fetched_pages = pd.read_csv(path_fetched_pages + \"/fetched_pages.csv\")\n",
    "    only_in_fetched = get_new_papers(labelled_data=original_dataset, fetched_pages=fetched_pages)\n",
    "    all_new_papers.append(only_in_fetched)\n",
    "\n",
    "combined_new_papers = pd.concat(all_new_papers, ignore_index=True)\n",
    "\n",
    "if os.path.exists(labelled_new_papers_path):\n",
    "    labelled_new_papers = pd.read_csv(labelled_new_papers_path)  \n",
    "    combined_new_papers = pd.concat([combined_new_papers,labelled_new_papers], ignore_index=True)\n",
    "\n",
    "combined_new_papers[\"has_relevance\"] = combined_new_papers[\"relevance\"].notna()\n",
    "combined_new_papers = combined_new_papers.sort_values(by=\"has_relevance\", ascending=False)\n",
    "unique_new_papers = combined_new_papers.drop_duplicates(subset=[\"url\"])\n",
    "columns_to_keep = [\"url\", \"title\", \"description\", \"relevance\"]\n",
    "filtered_new_papers = unique_new_papers.loc[:, columns_to_keep]\n",
    "filtered_new_papers.to_csv(os.path.join(path_to_crawlers, \"all_new_pages_to_label.csv\"), index=False)\n",
    "\n",
    "print(f\"Total new unique papers to label: {len(filtered_new_papers)}\")\n"
   ]
  },
  {
   "cell_type": "code",
   "execution_count": 90,
   "metadata": {},
   "outputs": [
    {
     "name": "stdout",
     "output_type": "stream",
     "text": [
      "23\n",
      "24\n"
     ]
    }
   ],
   "source": [
    "if os.path.exists(labelled_new_papers_path):\n",
    "    labelled_new_papers = pd.read_csv(labelled_new_papers_path)\n",
    "    labelled_new_papers_with_label = labelled_new_papers.dropna(subset=['relevance'])\n",
    "    \n",
    "labelled_dataset_complete = pd.concat([labelled_new_papers_with_label,original_dataset], ignore_index=True)\n",
    "print(len(original_dataset))\n",
    "print(len(labelled_dataset_complete))\n"
   ]
  },
  {
   "cell_type": "code",
   "execution_count": 93,
   "metadata": {},
   "outputs": [
    {
     "name": "stdout",
     "output_type": "stream",
     "text": [
      "(0.9411764705882353, 0.7272727272727273)\n",
      "(0.9411764705882353, 0.6956521739130435)\n",
      "(1.0, 0.7391304347826086)\n",
      "(0.7058823529411765, 0.7058823529411765)\n",
      "(0.9411764705882353, 0.7272727272727273)\n",
      "(1.0, 0.7391304347826086)\n",
      "(1.0, 0.7391304347826086)\n"
     ]
    }
   ],
   "source": [
    "for crawler in crawlers:\n",
    "    path_fetched_pages = os.path.join(path_to_crawlers, crawler)\n",
    "    fetched_pages = pd.read_csv(path_fetched_pages + \"/fetched_pages.csv\")\n",
    "    print(recall_precision(fetched_pages, labelled_dataset=labelled_dataset_complete))"
   ]
  },
  {
   "cell_type": "code",
   "execution_count": 124,
   "metadata": {},
   "outputs": [
    {
     "name": "stdout",
     "output_type": "stream",
     "text": [
      "Index(['url', 'title', 'description', 'score', 'get_with_query', 'time_fetch',\n",
      "       'is_seed'],\n",
      "      dtype='object')\n"
     ]
    },
    {
     "data": {
      "image/png": "[encoded data removed]",
      "text/plain": [
       "<Figure size 1000x600 with 1 Axes>"
      ]
     },
     "metadata": {},
     "output_type": "display_data"
    }
   ],
   "source": [
    "fetched_pages = os.path.join(path_to_crawlers, crawlers[6]) + \"/fetched_pages.csv\"\n",
    "session_infos = os.path.join(path_to_crawlers, crawlers[6]) + \"/session_infos.csv\"\n",
    "\n",
    "query_count(session_infos_path=session_infos, fetched_pages_path=fetched_pages)"
   ]
  }
 ],
 "metadata": {
  "kernelspec": {
   "display_name": "Python 3",
   "language": "python",
   "name": "python3"
  },
  "language_info": {
   "codemirror_mode": {
    "name": "ipython",
    "version": 3
   },
   "file_extension": ".py",
   "mimetype": "text/x-python",
   "name": "python",
   "nbconvert_exporter": "python",
   "pygments_lexer": "ipython3",
   "version": "3.11.5"
  },
  "orig_nbformat": 4
 },
 "nbformat": 4,
 "nbformat_minor": 2
}
